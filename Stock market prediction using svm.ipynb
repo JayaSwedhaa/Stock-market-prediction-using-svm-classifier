{
  "cells": [
    {
      "cell_type": "code",
      "execution_count": 1,
      "metadata": {
        "colab": {
          "base_uri": "https://localhost:8080/",
          "height": 206
        },
        "id": "5Z0fWjGvMEln",
        "outputId": "5391007c-e72d-4d5a-e219-919f2181f695"
      },
      "outputs": [
        {
          "output_type": "execute_result",
          "data": {
            "text/plain": [
              "         Date       Open       High        Low      Close  Adj Close    Volume\n",
              "0  2017-09-25  62.404247  62.423306  59.365021  60.951324  24.732347  74144046\n",
              "1  2017-09-26  61.213329  62.594795  60.865582  62.318504  25.287109  41446259\n",
              "2  2017-09-27  62.880619  62.880619  61.265728  61.865952  25.103474  52058583\n",
              "3  2017-09-28  62.204174  62.547161  61.227619  61.899300  25.117010  69053825\n",
              "4  2017-09-29  62.385197  62.594795  61.932644  62.170830  25.227190  29796912"
            ],
            "text/html": [
              "\n",
              "  <div id=\"df-03bc3f75-ba15-46fa-a53a-d68cdf4f30a1\">\n",
              "    <div class=\"colab-df-container\">\n",
              "      <div>\n",
              "<style scoped>\n",
              "    .dataframe tbody tr th:only-of-type {\n",
              "        vertical-align: middle;\n",
              "    }\n",
              "\n",
              "    .dataframe tbody tr th {\n",
              "        vertical-align: top;\n",
              "    }\n",
              "\n",
              "    .dataframe thead th {\n",
              "        text-align: right;\n",
              "    }\n",
              "</style>\n",
              "<table border=\"1\" class=\"dataframe\">\n",
              "  <thead>\n",
              "    <tr style=\"text-align: right;\">\n",
              "      <th></th>\n",
              "      <th>Date</th>\n",
              "      <th>Open</th>\n",
              "      <th>High</th>\n",
              "      <th>Low</th>\n",
              "      <th>Close</th>\n",
              "      <th>Adj Close</th>\n",
              "      <th>Volume</th>\n",
              "    </tr>\n",
              "  </thead>\n",
              "  <tbody>\n",
              "    <tr>\n",
              "      <th>0</th>\n",
              "      <td>2017-09-25</td>\n",
              "      <td>62.404247</td>\n",
              "      <td>62.423306</td>\n",
              "      <td>59.365021</td>\n",
              "      <td>60.951324</td>\n",
              "      <td>24.732347</td>\n",
              "      <td>74144046</td>\n",
              "    </tr>\n",
              "    <tr>\n",
              "      <th>1</th>\n",
              "      <td>2017-09-26</td>\n",
              "      <td>61.213329</td>\n",
              "      <td>62.594795</td>\n",
              "      <td>60.865582</td>\n",
              "      <td>62.318504</td>\n",
              "      <td>25.287109</td>\n",
              "      <td>41446259</td>\n",
              "    </tr>\n",
              "    <tr>\n",
              "      <th>2</th>\n",
              "      <td>2017-09-27</td>\n",
              "      <td>62.880619</td>\n",
              "      <td>62.880619</td>\n",
              "      <td>61.265728</td>\n",
              "      <td>61.865952</td>\n",
              "      <td>25.103474</td>\n",
              "      <td>52058583</td>\n",
              "    </tr>\n",
              "    <tr>\n",
              "      <th>3</th>\n",
              "      <td>2017-09-28</td>\n",
              "      <td>62.204174</td>\n",
              "      <td>62.547161</td>\n",
              "      <td>61.227619</td>\n",
              "      <td>61.899300</td>\n",
              "      <td>25.117010</td>\n",
              "      <td>69053825</td>\n",
              "    </tr>\n",
              "    <tr>\n",
              "      <th>4</th>\n",
              "      <td>2017-09-29</td>\n",
              "      <td>62.385197</td>\n",
              "      <td>62.594795</td>\n",
              "      <td>61.932644</td>\n",
              "      <td>62.170830</td>\n",
              "      <td>25.227190</td>\n",
              "      <td>29796912</td>\n",
              "    </tr>\n",
              "  </tbody>\n",
              "</table>\n",
              "</div>\n",
              "      <button class=\"colab-df-convert\" onclick=\"convertToInteractive('df-03bc3f75-ba15-46fa-a53a-d68cdf4f30a1')\"\n",
              "              title=\"Convert this dataframe to an interactive table.\"\n",
              "              style=\"display:none;\">\n",
              "        \n",
              "  <svg xmlns=\"http://www.w3.org/2000/svg\" height=\"24px\"viewBox=\"0 0 24 24\"\n",
              "       width=\"24px\">\n",
              "    <path d=\"M0 0h24v24H0V0z\" fill=\"none\"/>\n",
              "    <path d=\"M18.56 5.44l.94 2.06.94-2.06 2.06-.94-2.06-.94-.94-2.06-.94 2.06-2.06.94zm-11 1L8.5 8.5l.94-2.06 2.06-.94-2.06-.94L8.5 2.5l-.94 2.06-2.06.94zm10 10l.94 2.06.94-2.06 2.06-.94-2.06-.94-.94-2.06-.94 2.06-2.06.94z\"/><path d=\"M17.41 7.96l-1.37-1.37c-.4-.4-.92-.59-1.43-.59-.52 0-1.04.2-1.43.59L10.3 9.45l-7.72 7.72c-.78.78-.78 2.05 0 2.83L4 21.41c.39.39.9.59 1.41.59.51 0 1.02-.2 1.41-.59l7.78-7.78 2.81-2.81c.8-.78.8-2.07 0-2.86zM5.41 20L4 18.59l7.72-7.72 1.47 1.35L5.41 20z\"/>\n",
              "  </svg>\n",
              "      </button>\n",
              "      \n",
              "  <style>\n",
              "    .colab-df-container {\n",
              "      display:flex;\n",
              "      flex-wrap:wrap;\n",
              "      gap: 12px;\n",
              "    }\n",
              "\n",
              "    .colab-df-convert {\n",
              "      background-color: #E8F0FE;\n",
              "      border: none;\n",
              "      border-radius: 50%;\n",
              "      cursor: pointer;\n",
              "      display: none;\n",
              "      fill: #1967D2;\n",
              "      height: 32px;\n",
              "      padding: 0 0 0 0;\n",
              "      width: 32px;\n",
              "    }\n",
              "\n",
              "    .colab-df-convert:hover {\n",
              "      background-color: #E2EBFA;\n",
              "      box-shadow: 0px 1px 2px rgba(60, 64, 67, 0.3), 0px 1px 3px 1px rgba(60, 64, 67, 0.15);\n",
              "      fill: #174EA6;\n",
              "    }\n",
              "\n",
              "    [theme=dark] .colab-df-convert {\n",
              "      background-color: #3B4455;\n",
              "      fill: #D2E3FC;\n",
              "    }\n",
              "\n",
              "    [theme=dark] .colab-df-convert:hover {\n",
              "      background-color: #434B5C;\n",
              "      box-shadow: 0px 1px 3px 1px rgba(0, 0, 0, 0.15);\n",
              "      filter: drop-shadow(0px 1px 2px rgba(0, 0, 0, 0.3));\n",
              "      fill: #FFFFFF;\n",
              "    }\n",
              "  </style>\n",
              "\n",
              "      <script>\n",
              "        const buttonEl =\n",
              "          document.querySelector('#df-03bc3f75-ba15-46fa-a53a-d68cdf4f30a1 button.colab-df-convert');\n",
              "        buttonEl.style.display =\n",
              "          google.colab.kernel.accessAllowed ? 'block' : 'none';\n",
              "\n",
              "        async function convertToInteractive(key) {\n",
              "          const element = document.querySelector('#df-03bc3f75-ba15-46fa-a53a-d68cdf4f30a1');\n",
              "          const dataTable =\n",
              "            await google.colab.kernel.invokeFunction('convertToInteractive',\n",
              "                                                     [key], {});\n",
              "          if (!dataTable) return;\n",
              "\n",
              "          const docLinkHtml = 'Like what you see? Visit the ' +\n",
              "            '<a target=\"_blank\" href=https://colab.research.google.com/notebooks/data_table.ipynb>data table notebook</a>'\n",
              "            + ' to learn more about interactive tables.';\n",
              "          element.innerHTML = '';\n",
              "          dataTable['output_type'] = 'display_data';\n",
              "          await google.colab.output.renderOutput(dataTable, element);\n",
              "          const docLink = document.createElement('div');\n",
              "          docLink.innerHTML = docLinkHtml;\n",
              "          element.appendChild(docLink);\n",
              "        }\n",
              "      </script>\n",
              "    </div>\n",
              "  </div>\n",
              "  "
            ]
          },
          "metadata": {},
          "execution_count": 1
        }
      ],
      "source": [
        "from sklearn.svm import SVC\n",
        "from sklearn.metrics import accuracy_score\n",
        "from sklearn.model_selection import train_test_split\n",
        "import pandas as pd\n",
        "import numpy as np\n",
        "import matplotlib.pyplot as plt\n",
        "data = pd.read_csv('tatasteel.csv')\n",
        "data.head()"
      ]
    },
    {
      "cell_type": "code",
      "execution_count": 2,
      "metadata": {
        "colab": {
          "base_uri": "https://localhost:8080/"
        },
        "id": "SogVlS3C2vnb",
        "outputId": "2921f252-ab56-4c3e-bb90-4ddd6e56066e"
      },
      "outputs": [
        {
          "output_type": "stream",
          "name": "stdout",
          "text": [
            "(1236, 7)\n"
          ]
        }
      ],
      "source": [
        "print(data.shape)"
      ]
    },
    {
      "cell_type": "code",
      "execution_count": 3,
      "metadata": {
        "colab": {
          "base_uri": "https://localhost:8080/",
          "height": 455
        },
        "id": "uT1DWdP93bcG",
        "outputId": "5a0e17f6-754f-4d49-feab-7fdbcecf36f7"
      },
      "outputs": [
        {
          "output_type": "execute_result",
          "data": {
            "text/plain": [
              "                  Open        High         Low       Close   Adj Close  \\\n",
              "Date                                                                     \n",
              "2017-09-25   62.404247   62.423306   59.365021   60.951324   24.732347   \n",
              "2017-09-26   61.213329   62.594795   60.865582   62.318504   25.287109   \n",
              "2017-09-27   62.880619   62.880619   61.265728   61.865952   25.103474   \n",
              "2017-09-28   62.204174   62.547161   61.227619   61.899300   25.117010   \n",
              "2017-09-29   62.385197   62.594795   61.932644   62.170830   25.227190   \n",
              "...                ...         ...         ...         ...         ...   \n",
              "2022-09-19  106.199997  106.199997  103.000000  103.099998  103.099998   \n",
              "2022-09-20  104.199997  106.349998  104.000000  105.800003  105.800003   \n",
              "2022-09-21  105.800003  107.199997  104.300003  104.449997  104.449997   \n",
              "2022-09-22  104.449997  105.300003  103.500000  103.599998  103.599998   \n",
              "2022-09-23  106.199997  107.900002  103.750000  104.300003  104.300003   \n",
              "\n",
              "               Volume  \n",
              "Date                   \n",
              "2017-09-25   74144046  \n",
              "2017-09-26   41446259  \n",
              "2017-09-27   52058583  \n",
              "2017-09-28   69053825  \n",
              "2017-09-29   29796912  \n",
              "...               ...  \n",
              "2022-09-19   51146568  \n",
              "2022-09-20   52140254  \n",
              "2022-09-21   46142823  \n",
              "2022-09-22   61380323  \n",
              "2022-09-23  109765520  \n",
              "\n",
              "[1236 rows x 6 columns]"
            ],
            "text/html": [
              "\n",
              "  <div id=\"df-226f40bd-d344-4513-879f-825e7774b4f9\">\n",
              "    <div class=\"colab-df-container\">\n",
              "      <div>\n",
              "<style scoped>\n",
              "    .dataframe tbody tr th:only-of-type {\n",
              "        vertical-align: middle;\n",
              "    }\n",
              "\n",
              "    .dataframe tbody tr th {\n",
              "        vertical-align: top;\n",
              "    }\n",
              "\n",
              "    .dataframe thead th {\n",
              "        text-align: right;\n",
              "    }\n",
              "</style>\n",
              "<table border=\"1\" class=\"dataframe\">\n",
              "  <thead>\n",
              "    <tr style=\"text-align: right;\">\n",
              "      <th></th>\n",
              "      <th>Open</th>\n",
              "      <th>High</th>\n",
              "      <th>Low</th>\n",
              "      <th>Close</th>\n",
              "      <th>Adj Close</th>\n",
              "      <th>Volume</th>\n",
              "    </tr>\n",
              "    <tr>\n",
              "      <th>Date</th>\n",
              "      <th></th>\n",
              "      <th></th>\n",
              "      <th></th>\n",
              "      <th></th>\n",
              "      <th></th>\n",
              "      <th></th>\n",
              "    </tr>\n",
              "  </thead>\n",
              "  <tbody>\n",
              "    <tr>\n",
              "      <th>2017-09-25</th>\n",
              "      <td>62.404247</td>\n",
              "      <td>62.423306</td>\n",
              "      <td>59.365021</td>\n",
              "      <td>60.951324</td>\n",
              "      <td>24.732347</td>\n",
              "      <td>74144046</td>\n",
              "    </tr>\n",
              "    <tr>\n",
              "      <th>2017-09-26</th>\n",
              "      <td>61.213329</td>\n",
              "      <td>62.594795</td>\n",
              "      <td>60.865582</td>\n",
              "      <td>62.318504</td>\n",
              "      <td>25.287109</td>\n",
              "      <td>41446259</td>\n",
              "    </tr>\n",
              "    <tr>\n",
              "      <th>2017-09-27</th>\n",
              "      <td>62.880619</td>\n",
              "      <td>62.880619</td>\n",
              "      <td>61.265728</td>\n",
              "      <td>61.865952</td>\n",
              "      <td>25.103474</td>\n",
              "      <td>52058583</td>\n",
              "    </tr>\n",
              "    <tr>\n",
              "      <th>2017-09-28</th>\n",
              "      <td>62.204174</td>\n",
              "      <td>62.547161</td>\n",
              "      <td>61.227619</td>\n",
              "      <td>61.899300</td>\n",
              "      <td>25.117010</td>\n",
              "      <td>69053825</td>\n",
              "    </tr>\n",
              "    <tr>\n",
              "      <th>2017-09-29</th>\n",
              "      <td>62.385197</td>\n",
              "      <td>62.594795</td>\n",
              "      <td>61.932644</td>\n",
              "      <td>62.170830</td>\n",
              "      <td>25.227190</td>\n",
              "      <td>29796912</td>\n",
              "    </tr>\n",
              "    <tr>\n",
              "      <th>...</th>\n",
              "      <td>...</td>\n",
              "      <td>...</td>\n",
              "      <td>...</td>\n",
              "      <td>...</td>\n",
              "      <td>...</td>\n",
              "      <td>...</td>\n",
              "    </tr>\n",
              "    <tr>\n",
              "      <th>2022-09-19</th>\n",
              "      <td>106.199997</td>\n",
              "      <td>106.199997</td>\n",
              "      <td>103.000000</td>\n",
              "      <td>103.099998</td>\n",
              "      <td>103.099998</td>\n",
              "      <td>51146568</td>\n",
              "    </tr>\n",
              "    <tr>\n",
              "      <th>2022-09-20</th>\n",
              "      <td>104.199997</td>\n",
              "      <td>106.349998</td>\n",
              "      <td>104.000000</td>\n",
              "      <td>105.800003</td>\n",
              "      <td>105.800003</td>\n",
              "      <td>52140254</td>\n",
              "    </tr>\n",
              "    <tr>\n",
              "      <th>2022-09-21</th>\n",
              "      <td>105.800003</td>\n",
              "      <td>107.199997</td>\n",
              "      <td>104.300003</td>\n",
              "      <td>104.449997</td>\n",
              "      <td>104.449997</td>\n",
              "      <td>46142823</td>\n",
              "    </tr>\n",
              "    <tr>\n",
              "      <th>2022-09-22</th>\n",
              "      <td>104.449997</td>\n",
              "      <td>105.300003</td>\n",
              "      <td>103.500000</td>\n",
              "      <td>103.599998</td>\n",
              "      <td>103.599998</td>\n",
              "      <td>61380323</td>\n",
              "    </tr>\n",
              "    <tr>\n",
              "      <th>2022-09-23</th>\n",
              "      <td>106.199997</td>\n",
              "      <td>107.900002</td>\n",
              "      <td>103.750000</td>\n",
              "      <td>104.300003</td>\n",
              "      <td>104.300003</td>\n",
              "      <td>109765520</td>\n",
              "    </tr>\n",
              "  </tbody>\n",
              "</table>\n",
              "<p>1236 rows × 6 columns</p>\n",
              "</div>\n",
              "      <button class=\"colab-df-convert\" onclick=\"convertToInteractive('df-226f40bd-d344-4513-879f-825e7774b4f9')\"\n",
              "              title=\"Convert this dataframe to an interactive table.\"\n",
              "              style=\"display:none;\">\n",
              "        \n",
              "  <svg xmlns=\"http://www.w3.org/2000/svg\" height=\"24px\"viewBox=\"0 0 24 24\"\n",
              "       width=\"24px\">\n",
              "    <path d=\"M0 0h24v24H0V0z\" fill=\"none\"/>\n",
              "    <path d=\"M18.56 5.44l.94 2.06.94-2.06 2.06-.94-2.06-.94-.94-2.06-.94 2.06-2.06.94zm-11 1L8.5 8.5l.94-2.06 2.06-.94-2.06-.94L8.5 2.5l-.94 2.06-2.06.94zm10 10l.94 2.06.94-2.06 2.06-.94-2.06-.94-.94-2.06-.94 2.06-2.06.94z\"/><path d=\"M17.41 7.96l-1.37-1.37c-.4-.4-.92-.59-1.43-.59-.52 0-1.04.2-1.43.59L10.3 9.45l-7.72 7.72c-.78.78-.78 2.05 0 2.83L4 21.41c.39.39.9.59 1.41.59.51 0 1.02-.2 1.41-.59l7.78-7.78 2.81-2.81c.8-.78.8-2.07 0-2.86zM5.41 20L4 18.59l7.72-7.72 1.47 1.35L5.41 20z\"/>\n",
              "  </svg>\n",
              "      </button>\n",
              "      \n",
              "  <style>\n",
              "    .colab-df-container {\n",
              "      display:flex;\n",
              "      flex-wrap:wrap;\n",
              "      gap: 12px;\n",
              "    }\n",
              "\n",
              "    .colab-df-convert {\n",
              "      background-color: #E8F0FE;\n",
              "      border: none;\n",
              "      border-radius: 50%;\n",
              "      cursor: pointer;\n",
              "      display: none;\n",
              "      fill: #1967D2;\n",
              "      height: 32px;\n",
              "      padding: 0 0 0 0;\n",
              "      width: 32px;\n",
              "    }\n",
              "\n",
              "    .colab-df-convert:hover {\n",
              "      background-color: #E2EBFA;\n",
              "      box-shadow: 0px 1px 2px rgba(60, 64, 67, 0.3), 0px 1px 3px 1px rgba(60, 64, 67, 0.15);\n",
              "      fill: #174EA6;\n",
              "    }\n",
              "\n",
              "    [theme=dark] .colab-df-convert {\n",
              "      background-color: #3B4455;\n",
              "      fill: #D2E3FC;\n",
              "    }\n",
              "\n",
              "    [theme=dark] .colab-df-convert:hover {\n",
              "      background-color: #434B5C;\n",
              "      box-shadow: 0px 1px 3px 1px rgba(0, 0, 0, 0.15);\n",
              "      filter: drop-shadow(0px 1px 2px rgba(0, 0, 0, 0.3));\n",
              "      fill: #FFFFFF;\n",
              "    }\n",
              "  </style>\n",
              "\n",
              "      <script>\n",
              "        const buttonEl =\n",
              "          document.querySelector('#df-226f40bd-d344-4513-879f-825e7774b4f9 button.colab-df-convert');\n",
              "        buttonEl.style.display =\n",
              "          google.colab.kernel.accessAllowed ? 'block' : 'none';\n",
              "\n",
              "        async function convertToInteractive(key) {\n",
              "          const element = document.querySelector('#df-226f40bd-d344-4513-879f-825e7774b4f9');\n",
              "          const dataTable =\n",
              "            await google.colab.kernel.invokeFunction('convertToInteractive',\n",
              "                                                     [key], {});\n",
              "          if (!dataTable) return;\n",
              "\n",
              "          const docLinkHtml = 'Like what you see? Visit the ' +\n",
              "            '<a target=\"_blank\" href=https://colab.research.google.com/notebooks/data_table.ipynb>data table notebook</a>'\n",
              "            + ' to learn more about interactive tables.';\n",
              "          element.innerHTML = '';\n",
              "          dataTable['output_type'] = 'display_data';\n",
              "          await google.colab.output.renderOutput(dataTable, element);\n",
              "          const docLink = document.createElement('div');\n",
              "          docLink.innerHTML = docLinkHtml;\n",
              "          element.appendChild(docLink);\n",
              "        }\n",
              "      </script>\n",
              "    </div>\n",
              "  </div>\n",
              "  "
            ]
          },
          "metadata": {},
          "execution_count": 3
        }
      ],
      "source": [
        "data.index = pd.to_datetime(data['Date'])\n",
        "data = data.drop(['Date'], axis='columns')\n",
        "data"
      ]
    },
    {
      "cell_type": "code",
      "execution_count": 4,
      "metadata": {
        "colab": {
          "base_uri": "https://localhost:8080/"
        },
        "id": "0EQFKpYG3--D",
        "outputId": "f9c0b1d3-2734-4cd9-be81-3a2f85dd13d0"
      },
      "outputs": [
        {
          "output_type": "stream",
          "name": "stdout",
          "text": [
            "            Open-Close  High-Low\n",
            "Date                            \n",
            "2017-09-25    1.452923  3.058285\n",
            "2017-09-26   -1.105175  1.729213\n",
            "2017-09-27    1.014667  1.614891\n",
            "2017-09-28    0.304874  1.319542\n",
            "2017-09-29    0.214367  0.662151\n",
            "...                ...       ...\n",
            "2022-09-19    3.099999  3.199997\n",
            "2022-09-20   -1.600006  2.349998\n",
            "2022-09-21    1.350006  2.899994\n",
            "2022-09-22    0.849999  1.800003\n",
            "2022-09-23    1.899994  4.150002\n",
            "\n",
            "[1236 rows x 2 columns]\n"
          ]
        }
      ],
      "source": [
        "data['Open-Close'] = data.Open - data.Close\n",
        "data['High-Low'] = data.High - data.Low\n",
        "x = data[['Open-Close', 'High-Low']]\n",
        "print(x)"
      ]
    },
    {
      "cell_type": "code",
      "execution_count": 5,
      "metadata": {
        "colab": {
          "base_uri": "https://localhost:8080/"
        },
        "id": "-UWYA-Bn5xX6",
        "outputId": "21144725-f27d-45cf-a606-80ef2983809d"
      },
      "outputs": [
        {
          "output_type": "stream",
          "name": "stdout",
          "text": [
            "[1 0 1 ... 0 1 0]\n"
          ]
        }
      ],
      "source": [
        "y = np.where(data['Close'].shift(-1) > data['Close'], 1, 0)\n",
        "print(y)"
      ]
    },
    {
      "cell_type": "code",
      "execution_count": 6,
      "metadata": {
        "colab": {
          "base_uri": "https://localhost:8080/"
        },
        "id": "rK4u9AdA4e7Z",
        "outputId": "caf81ea5-d7d5-447c-8856-595c9eb05d3a"
      },
      "outputs": [
        {
          "output_type": "stream",
          "name": "stdout",
          "text": [
            "            Open-Close  High-Low\n",
            "Date                            \n",
            "2017-09-25    1.452923  3.058285\n",
            "2017-09-26   -1.105175  1.729213\n",
            "2017-09-27    1.014667  1.614891\n",
            "2017-09-28    0.304874  1.319542\n",
            "2017-09-29    0.214367  0.662151\n",
            "...                ...       ...\n",
            "2021-03-19   -3.025001  5.550003\n",
            "2021-03-22   -1.239997  2.065002\n",
            "2021-03-23    0.485000  1.614998\n",
            "2021-03-24    2.819999  3.405006\n",
            "2021-03-25   -1.305000  4.235001\n",
            "\n",
            "[865 rows x 2 columns]\n",
            "[1 0 1 1 1 0 1 1 1 0 0 1 1 1 0 0 0 1 1 0 1 0 0 0 1 0 1 0 0 0 1 0 0 0 0 1 1\n",
            " 1 1 0 1 0 0 1 1 0 0 1 0 0 1 1 1 0 0 1 1 1 1 0 1 0 1 1 1 0 0 1 1 1 1 0 1 1\n",
            " 0 0 1 0 1 0 1 0 1 0 1 1 0 0 0 0 0 1 0 1 1 1 0 0 0 0 1 0 0 1 1 0 0 1 0 1 0\n",
            " 0 0 1 1 0 0 0 0 1 0 0 0 1 1 0 1 1 0 1 1 0 1 1 0 0 0 1 1 1 0 1 0 0 0 1 1 0\n",
            " 1 0 1 0 1 0 1 1 1 0 0 0 0 0 0 1 1 1 0 1 0 0 1 1 1 1 0 0 0 0 1 0 0 0 1 0 1\n",
            " 0 0 0 1 1 0 1 1 0 1 1 1 0 0 1 0 1 0 0 1 1 1 1 0 1 1 1 0 0 1 0 1 1 1 0 0 1\n",
            " 0 1 1 0 0 1 1 1 1 1 0 1 0 1 1 1 0 0 1 1 1 0 1 1 0 0 1 1 0 1 0 1 0 0 1 1 0\n",
            " 1 0 1 0 1 0 1 1 0 1 1 0 0 1 1 1 0 1 0 1 1 0 1 0 1 0 0 0 0 0 1 1 0 1 1 0 0\n",
            " 0 0 0 1 0 1 1 1 1 0 0 0 0 0 1 1 0 0 0 1 0 1 0 1 0 0 1 0 0 0 1 0 1 0 0 0 0\n",
            " 1 1 0 1 0 1 1 0 1 1 0 0 0 1 1 1 1 1 0 1 0 1 1 0 1 0 1 1 0 1 0 1 1 0 1 0 1\n",
            " 0 0 1 0 1 0 1 0 1 0 0 0 1 1 0 0 0 1 0 1 1 0 0 0 0 0 0 0 0 0 0 1 1 1 0 1 0\n",
            " 1 1 0 0 0 1 1 0 0 0 1 1 1 0 0 0 0 1 1 0 0 1 1 1 0 1 1 1 0 0 0 1 0 1 1 0 1\n",
            " 0 0 0 1 0 0 0 1 0 0 1 0 0 0 1 0 0 0 0 1 0 0 0 0 0 1 0 1 0 0 1 0 1 1 1 0 1\n",
            " 0 1 0 0 1 0 1 1 0 0 1 0 1 0 0 0 0 1 0 1 1 1 0 1 1 0 1 1 1 1 1 0 0 1 1 0 1\n",
            " 0 0 1 0 0 1 1 0 0 0 1 1 1 0 1 0 0 0 1 0 1 1 0 1 1 1 0 1 1 1 1 1 1 1 1 1 0\n",
            " 0 1 0 0 1 0 1 1 1 1 1 0 1 0 0 0 1 1 0 0 1 0 0 0 1 1 1 0 0 1 1 0 0 1 0 1 1\n",
            " 0 1 0 0 0 0 1 0 0 0 0 0 0 1 0 0 0 0 1 0 1 1 0 0 0 1 0 0 1 0 1 0 1 1 1 0 0\n",
            " 1 1 0 1 1 1 1 0 0 1 0 0 1 0 1 0 1 0 1 1 1 0 1 1 1 0 1 1 0 1 1 0 0 0 0 1 0\n",
            " 1 0 1 1 1 1 0 0 1 0 1 0 1 0 1 0 1 1 0 1 0 1 1 1 1 1 0 1 0 1 1 1 0 0 1 0 1\n",
            " 1 1 1 1 0 0 1 1 1 0 1 0 1 0 1 1 0 0 1 1 0 0 1 0 1 0 0 0 1 0 0 0 0 1 0 0 1\n",
            " 1 1 0 1 1 0 0 1 0 1 0 1 0 1 1 0 1 1 1 0 1 0 0 1 0 1 0 1 1 1 1 1 0 1 1 1 0\n",
            " 1 1 1 1 0 1 1 1 1 1 1 0 0 0 1 1 1 1 1 0 0 0 1 1 1 1 0 1 1 0 1 0 1 1 0 0 0\n",
            " 1 0 0 0 1 1 0 0 1 0 0 0 1 1 1 1 1 1 0 0 1 0 0 1 0 1 0 1 1 0 1 0 1 1 1 0 0\n",
            " 1 0 1 0 1 0 0 1 1 1 0 0 1 1]\n"
          ]
        }
      ],
      "source": [
        "split_percentage = 0.7\n",
        "split = int(split_percentage*len(data))\n",
        "\n",
        "a = x[:split]\n",
        "b = y[:split]\n",
        "print(a)\n",
        "print(b)"
      ]
    },
    {
      "cell_type": "code",
      "execution_count": 7,
      "metadata": {
        "colab": {
          "base_uri": "https://localhost:8080/"
        },
        "id": "WUAKm-WnCmlY",
        "outputId": "da0bb9a8-50e8-4da5-ce5e-9e23ca65c085"
      },
      "outputs": [
        {
          "output_type": "stream",
          "name": "stdout",
          "text": [
            "            Open-Close  High-Low\n",
            "Date                            \n",
            "2021-03-26   -3.644997  4.970001\n",
            "2021-03-30   -2.000000  3.209999\n",
            "2021-03-31   -1.784996  3.339996\n",
            "2021-04-01   -4.205002  4.989997\n",
            "2021-04-05   -0.575005  4.070008\n",
            "...                ...       ...\n",
            "2022-09-19    3.099999  3.199997\n",
            "2022-09-20   -1.600006  2.349998\n",
            "2022-09-21    1.350006  2.899994\n",
            "2022-09-22    0.849999  1.800003\n",
            "2022-09-23    1.899994  4.150002\n",
            "\n",
            "[371 rows x 2 columns]\n",
            "[1 1 1 1 0 1 1 0 0 1 1 0 0 1 1 1 1 1 0 1 1 1 0 1 1 1 1 1 0 0 1 1 0 0 1 0 1\n",
            " 0 1 1 1 0 1 0 0 1 0 0 1 1 1 1 0 0 0 1 1 0 1 1 1 0 0 0 0 1 1 1 0 1 0 1 1 1\n",
            " 1 0 0 1 1 1 1 1 1 0 0 0 1 1 0 0 0 1 1 1 1 0 0 0 0 1 0 0 1 1 1 0 1 1 0 0 1\n",
            " 1 1 0 1 0 0 0 1 1 1 0 0 1 1 0 1 1 0 0 1 1 1 1 1 1 1 0 0 0 0 0 1 0 0 1 1 0\n",
            " 1 0 1 0 0 1 0 0 0 0 0 0 1 0 0 0 1 0 1 1 1 0 1 1 1 1 0 1 0 0 0 0 1 1 0 0 1\n",
            " 1 0 0 1 1 1 1 0 0 1 0 1 1 0 1 0 1 0 0 0 1 0 0 1 1 1 0 1 1 1 1 1 1 0 1 0 0\n",
            " 0 0 0 1 0 1 1 1 1 0 1 0 0 1 0 0 0 1 1 0 0 1 1 0 0 0 0 0 1 1 1 1 0 1 0 0 0\n",
            " 1 0 0 0 0 0 1 1 1 1 1 0 1 0 0 0 1 0 0 1 1 0 0 1 0 0 0 1 0 1 1 1 1 0 1 0 1\n",
            " 0 0 0 1 0 0 1 0 1 0 1 1 1 1 1 0 1 0 1 0 1 0 1 0 1 1 0 1 1 1 1 1 1 0 1 1 1\n",
            " 1 0 1 1 0 0 1 0 1 1 0 1 0 0 1 0 0 1 0 1 0 0 1 1 0 0 0 1 0 1 0 0 0 1 0 0 1\n",
            " 0]\n"
          ]
        }
      ],
      "source": [
        "X = x[split:]\n",
        "Y = y[split:]\n",
        "print(X)\n",
        "print(Y)"
      ]
    },
    {
      "cell_type": "code",
      "execution_count": 8,
      "metadata": {
        "id": "q4LAWfMT6f8z"
      },
      "outputs": [],
      "source": [
        "model = SVC().fit(a, b)"
      ]
    },
    {
      "cell_type": "code",
      "execution_count": 9,
      "metadata": {
        "colab": {
          "base_uri": "https://localhost:8080/"
        },
        "id": "ckpgY1aH6t6f",
        "outputId": "13bbf518-aa4e-4f11-ea9d-14db56821339"
      },
      "outputs": [
        {
          "output_type": "stream",
          "name": "stdout",
          "text": [
            "Date\n",
            "2017-09-25    1\n",
            "2017-09-26    0\n",
            "2017-09-27    1\n",
            "2017-09-28    1\n",
            "2017-09-29    1\n",
            "             ..\n",
            "2022-09-19    1\n",
            "2022-09-20    1\n",
            "2022-09-21    1\n",
            "2022-09-22    1\n",
            "2022-09-23    1\n",
            "Name: Predicted_Signal, Length: 1236, dtype: int64\n"
          ]
        }
      ],
      "source": [
        "data['Predicted_Signal'] = model.predict(x)\n",
        "print(data['Predicted_Signal'])"
      ]
    },
    {
      "cell_type": "code",
      "execution_count": 10,
      "metadata": {
        "colab": {
          "base_uri": "https://localhost:8080/"
        },
        "id": "s14wbNkmFRNW",
        "outputId": "99b47ef1-3d7e-4f52-ab89-c30ee1656d0e"
      },
      "outputs": [
        {
          "output_type": "execute_result",
          "data": {
            "text/plain": [
              "Date\n",
              "2017-09-25         NaN\n",
              "2017-09-26    0.022431\n",
              "2017-09-27   -0.007262\n",
              "2017-09-28    0.000539\n",
              "2017-09-29    0.004387\n",
              "                ...   \n",
              "2022-09-19   -0.024598\n",
              "2022-09-20    0.026188\n",
              "2022-09-21   -0.012760\n",
              "2022-09-22   -0.008138\n",
              "2022-09-23    0.006757\n",
              "Name: Return, Length: 1236, dtype: float64"
            ]
          },
          "metadata": {},
          "execution_count": 10
        }
      ],
      "source": [
        "data['Return'] = data.Close.pct_change()\n",
        "data['Return']"
      ]
    },
    {
      "cell_type": "code",
      "execution_count": 11,
      "metadata": {
        "colab": {
          "base_uri": "https://localhost:8080/"
        },
        "id": "IQmJajEiFiri",
        "outputId": "ec4175f0-7ffd-4f79-fe9b-2d20fc8e4efe"
      },
      "outputs": [
        {
          "output_type": "execute_result",
          "data": {
            "text/plain": [
              "Date\n",
              "2017-09-25         NaN\n",
              "2017-09-26    0.022431\n",
              "2017-09-27   -0.000000\n",
              "2017-09-28    0.000539\n",
              "2017-09-29    0.004387\n",
              "                ...   \n",
              "2022-09-19   -0.024598\n",
              "2022-09-20    0.026188\n",
              "2022-09-21   -0.012760\n",
              "2022-09-22   -0.008138\n",
              "2022-09-23    0.006757\n",
              "Name: Strategy_Return, Length: 1236, dtype: float64"
            ]
          },
          "metadata": {},
          "execution_count": 11
        }
      ],
      "source": [
        "data['Strategy_Return'] = data.Return *data.Predicted_Signal.shift(1)\n",
        "data['Strategy_Return'] "
      ]
    },
    {
      "cell_type": "code",
      "execution_count": 12,
      "metadata": {
        "colab": {
          "base_uri": "https://localhost:8080/"
        },
        "id": "LCNIwUj1Gmvf",
        "outputId": "e3b60210-b35d-439b-d306-28ba87ff3bde"
      },
      "outputs": [
        {
          "output_type": "execute_result",
          "data": {
            "text/plain": [
              "Date\n",
              "2017-09-25         NaN\n",
              "2017-09-26    0.022431\n",
              "2017-09-27    0.022431\n",
              "2017-09-28    0.022970\n",
              "2017-09-29    0.027356\n",
              "                ...   \n",
              "2022-09-19    0.758406\n",
              "2022-09-20    0.784594\n",
              "2022-09-21    0.771834\n",
              "2022-09-22    0.763696\n",
              "2022-09-23    0.770453\n",
              "Name: Cum_Strategy, Length: 1236, dtype: float64"
            ]
          },
          "metadata": {},
          "execution_count": 12
        }
      ],
      "source": [
        "data['Cum_Strategy'] = data['Strategy_Return'].cumsum()\n",
        "data['Cum_Strategy']"
      ]
    },
    {
      "cell_type": "code",
      "execution_count": 13,
      "metadata": {
        "colab": {
          "base_uri": "https://localhost:8080/"
        },
        "id": "9EvaY_zYHS5O",
        "outputId": "50e71a2d-2511-4d60-f755-583ec1cd2564"
      },
      "outputs": [
        {
          "output_type": "execute_result",
          "data": {
            "text/plain": [
              "Date\n",
              "2017-09-25         NaN\n",
              "2017-09-26    0.022431\n",
              "2017-09-27    0.015169\n",
              "2017-09-28    0.015708\n",
              "2017-09-29    0.020094\n",
              "                ...   \n",
              "2022-09-19    0.924729\n",
              "2022-09-20    0.950918\n",
              "2022-09-21    0.938158\n",
              "2022-09-22    0.930020\n",
              "2022-09-23    0.936777\n",
              "Name: Cum_Ret, Length: 1236, dtype: float64"
            ]
          },
          "metadata": {},
          "execution_count": 13
        }
      ],
      "source": [
        "data['Cum_Ret'] = data['Return'].cumsum()\n",
        "data['Cum_Ret']"
      ]
    },
    {
      "cell_type": "code",
      "execution_count": 14,
      "metadata": {
        "colab": {
          "base_uri": "https://localhost:8080/",
          "height": 469
        },
        "id": "Ie_FwCLwHCiy",
        "outputId": "3e477335-186d-4cc4-cad2-e56e303d3af7"
      },
      "outputs": [
        {
          "output_type": "execute_result",
          "data": {
            "text/plain": [
              "<matplotlib.legend.Legend at 0x7f604a18dcc0>"
            ]
          },
          "metadata": {},
          "execution_count": 14
        },
        {
          "output_type": "display_data",
          "data": {
            "text/plain": [
              "<Figure size 640x480 with 1 Axes>"
            ],
            "image/png": "[encoded data removed]"
          },
          "metadata": {}
        }
      ],
      "source": [
        "plt.plot(data['Cum_Ret'],color='purple', label = 'TATA Steel Price')\n",
        "plt.plot(data['Cum_Strategy'],color='pink', label = 'Predicted TATA Steel Price')\n",
        "plt.title('TATA Steel Prediction')\n",
        "plt.legend()"
      ]
    },
    {
      "cell_type": "code",
      "execution_count": 16,
      "metadata": {
        "colab": {
          "base_uri": "https://localhost:8080/"
        },
        "id": "fMY7ZMGQ_VbJ",
        "outputId": "eb5df6f4-9ab2-49f3-8a92-f8cbc49713d4"
      },
      "outputs": [
        {
          "output_type": "stream",
          "name": "stdout",
          "text": [
            "nTracing Status :  False\n",
            "Tracing Status :  True\n",
            "time elapsed 3.1235218048095703 milli seconds\n",
            "Peak Size in MB -  0.04642677307128906\n"
          ]
        }
      ],
      "source": [
        "import tracemalloc\n",
        "import pandas as pd\n",
        "import dask.dataframe as dd\n",
        "import time\n",
        "def tracing_start():\n",
        "    tracemalloc.stop()\n",
        "    print(\"nTracing Status : \", tracemalloc.is_tracing())\n",
        "    tracemalloc.start()\n",
        "    print(\"Tracing Status : \", tracemalloc.is_tracing())\n",
        "def tracing_mem():\n",
        "    first_size, first_peak = tracemalloc.get_traced_memory()\n",
        "    peak = first_peak/(1024*1024)\n",
        "    print(\"Peak Size in MB - \", peak)\n",
        "tracing_start()\n",
        "start = time.time()\n",
        "sq_list1 = [elem + elem**2 for elem in range(1,1000)]\n",
        "end = time.time()\n",
        "print(\"time elapsed {} milli seconds\".format((end-start)*1000))\n",
        "tracing_mem()"
      ]
    },
    {
      "cell_type": "code",
      "execution_count": 17,
      "metadata": {
        "colab": {
          "base_uri": "https://localhost:8080/"
        },
        "id": "D4UHttl_1EVd",
        "outputId": "257e62b3-e94f-4100-a3f2-1795d8f50c89"
      },
      "outputs": [
        {
          "output_type": "stream",
          "name": "stdout",
          "text": [
            "         4 function calls in 0.000 seconds\n",
            "\n",
            "   Ordered by: standard name\n",
            "\n",
            "   ncalls  tottime  percall  cumtime  percall filename:lineno(function)\n",
            "        1    0.000    0.000    0.000    0.000 <string>:1(<listcomp>)\n",
            "        1    0.000    0.000    0.000    0.000 <string>:1(<module>)\n",
            "        1    0.000    0.000    0.000    0.000 {built-in method builtins.exec}\n",
            "        1    0.000    0.000    0.000    0.000 {method 'disable' of '_lsprof.Profiler' objects}\n",
            "\n",
            "\n"
          ]
        }
      ],
      "source": [
        "import cProfile \n",
        "cProfile.run(\"[(a, b) for a in (1, 3) for b in (2, 4)]\")"
      ]
    },
    {
      "cell_type": "code",
      "source": [
        "from sklearn.metrics import ConfusionMatrixDisplay \n",
        "X_train,X_test,Y_train,Y_test= train_test_split(x,y, test_size=0.3, random_state=000) \n",
        "S = SVC().fit(X_train, Y_train) \n",
        "ConfusionMatrixDisplay.from_estimator(S,X_test,Y_test)"
      ],
      "metadata": {
        "colab": {
          "base_uri": "https://localhost:8080/",
          "height": 466
        },
        "id": "1ZRriXvVPASG",
        "outputId": "91cee8a2-1b90-4d50-b2ea-158566eb8c60"
      },
      "execution_count": 18,
      "outputs": [
        {
          "output_type": "execute_result",
          "data": {
            "text/plain": [
              "<sklearn.metrics._plot.confusion_matrix.ConfusionMatrixDisplay at 0x7f6047efa890>"
            ]
          },
          "metadata": {},
          "execution_count": 18
        },
        {
          "output_type": "display_data",
          "data": {
            "text/plain": [
              "<Figure size 640x480 with 2 Axes>"
            ],
            "image/png": "[encoded data removed]"
          },
          "metadata": {}
        }
      ]
    }
  ],
  "metadata": {
    "colab": {
      "provenance": []
    },
    "kernelspec": {
      "display_name": "Python 3",
      "name": "python3"
    },
    "language_info": {
      "name": "python"
    }
  },
  "nbformat": 4,
  "nbformat_minor": 0
}